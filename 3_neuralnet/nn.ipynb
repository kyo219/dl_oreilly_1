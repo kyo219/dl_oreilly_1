{
 "cells": [
  {
   "cell_type": "code",
   "execution_count": 1,
   "id": "74927e7d-03c4-4032-b1dc-f9a7ed8c24c6",
   "metadata": {},
   "outputs": [],
   "source": [
    "import numpy as np"
   ]
  },
  {
   "cell_type": "markdown",
   "id": "785a939b-ac5d-45c9-bbd7-1a3e93df2279",
   "metadata": {},
   "source": [
    "**chapter2 のパーセプトロンでは、重みを引数として与えてあげる必要があった ↓**"
   ]
  },
  {
   "cell_type": "code",
   "execution_count": 2,
   "id": "6bee961c-0ca2-48c3-ae15-625849591eb6",
   "metadata": {},
   "outputs": [],
   "source": [
    "def AND(x1, x2):\n",
    "    x_vec = np.array([x1, x2])\n",
    "    w_vec = np.array([0.5, 0.5])\n",
    "    bias= -0.7\n",
    "    tmp = np.sum(x_vec * w_vec) + bias\n",
    "    if tmp <= 0:\n",
    "        return 0\n",
    "    else:\n",
    "        return 1"
   ]
  },
  {
   "cell_type": "markdown",
   "id": "73fb847e-30c1-4a2e-a4a4-37ae298abc20",
   "metadata": {},
   "source": [
    "**そこを推論する仕組みがNNらしい**"
   ]
  },
  {
   "cell_type": "markdown",
   "id": "9b5828a4-a81a-4d2e-a893-02f4d5f687a5",
   "metadata": {},
   "source": [
    "**↑のように、ある閾値でずばっと0|1を分ける関数を、活性化関数と呼ぶらしい。ここで、よく使うものをまとめる**"
   ]
  },
  {
   "cell_type": "code",
   "execution_count": 26,
   "id": "a62dd8d8-ed64-4e92-a893-9065dcecaf69",
   "metadata": {},
   "outputs": [],
   "source": [
    "def step_func(x):\n",
    "    if x > 0:\n",
    "        return 1\n",
    "    else:\n",
    "        return 0\n",
    "\n",
    "def sigmoid_func(x):\n",
    "    return 1/(1+np.exp(-x))\n",
    "\n",
    "\n",
    "def relu_func(x):\n",
    "    return np.maxmum(0, x)"
   ]
  },
  {
   "cell_type": "markdown",
   "id": "a6656f77-fde8-4b6e-a035-a2ac176beb43",
   "metadata": {},
   "source": [
    "**非線形なのが重要. 線形だといくつ重ねても: y=h(h(h(x)))で、h(x) = cx の時、 y = c^3x となり、多層にする必要がない**"
   ]
  },
  {
   "cell_type": "markdown",
   "id": "07acc85a-7c1e-4bbd-8f13-94d2ce7f6e74",
   "metadata": {},
   "source": [
    "**NNでも、行列演算で表記することが可能. 試しにnpで3層NNを表現してみる**"
   ]
  },
  {
   "attachments": {
    "1754ac85-b527-4e7d-8800-21f7dbeb35ef.jpeg": {
     "image/jpeg": "[encoded data removed]"
    }
   },
   "cell_type": "markdown",
   "id": "721f458b-1cb7-42a0-9227-ec6616b581c0",
   "metadata": {},
   "source": [
    "![3ll.jpeg](attachment:1754ac85-b527-4e7d-8800-21f7dbeb35ef.jpeg)"
   ]
  },
  {
   "cell_type": "code",
   "execution_count": 30,
   "id": "034eb342-91f9-4348-8cfc-7dd1dcaf4439",
   "metadata": {},
   "outputs": [],
   "source": [
    "class nn_3layers():\n",
    "    def __init__(self):\n",
    "        _network = {}\n",
    "        # weight \n",
    "        _network['W1'] = np.array([[0.1, 0.3, 0.5], [0.2, 0.4, 0.6]])\n",
    "        _network['W2'] = np.array([[0.1, 0.4], [0.2, 0.5], [0.3, 0.6]])\n",
    "        _network['W3'] = np.array([[0.1, 0.3], [0.2, 0.4]])\n",
    "        # bias\n",
    "        _network['b1'] = np.array([0.1, 0.2, 0.3])\n",
    "        _network['b2'] = np.array([0.1, 0.2])\n",
    "        _network['b3'] = np.array([0.1, 0.2])\n",
    "        self.network = _network      \n",
    "\n",
    "    def forward(self, x):\n",
    "        W1, W2, W3 = self.network['W1'],self.network['W2'],self.network['W3']\n",
    "        b1, b2, b3 = self.network['b1'],self.network['b2'],self.network['b3']\n",
    "\n",
    "        a1 = np.dot(x, W1) + b1\n",
    "        z1 = sigmoid_func(a1)\n",
    "        a2 = np.dot(z1, W2) + b2\n",
    "        z2 = sigmoid_func(a2)\n",
    "        a3 = np.dot(z2, W3) + b3\n",
    "        self.a3 = a3\n",
    "\n",
    "    def identity_func(self):\n",
    "        return self.a3\n"
   ]
  },
  {
   "cell_type": "code",
   "execution_count": 31,
   "id": "655ca77a-cc0d-4585-8dd9-345b69e39553",
   "metadata": {},
   "outputs": [
    {
     "name": "stdout",
     "output_type": "stream",
     "text": [
      "[0.31682708 0.69627909]\n"
     ]
    }
   ],
   "source": [
    "my_nn = nn_3layers()\n",
    "my_nn.forward(np.array([1.0, 0.5]))\n",
    "result = my_nn.identity_func()\n",
    "print(result)"
   ]
  },
  {
   "cell_type": "markdown",
   "id": "5df540d3-5992-440a-bb8b-ba6befe3f161",
   "metadata": {},
   "source": [
    "**できた.**"
   ]
  },
  {
   "cell_type": "markdown",
   "id": "29a50ac2-a1d9-418a-b537-d1be95241439",
   "metadata": {},
   "source": [
    "**出力層を作ってみる**"
   ]
  },
  {
   "cell_type": "code",
   "execution_count": 32,
   "id": "b073a2c6-6282-4817-952d-b4654198f5a0",
   "metadata": {},
   "outputs": [],
   "source": [
    "def softmax_func(a):\n",
    "    c = np.max(a)\n",
    "    exp_a = np.exp(a - c) # overflow対策\n",
    "    sum_exp_a = np.sum(exp_a)\n",
    "    y = exp_a / sum_exp_a\n",
    "    return y"
   ]
  },
  {
   "cell_type": "code",
   "execution_count": null,
   "id": "cce6ec37-6e83-43a2-be0c-f894ff00ba96",
   "metadata": {},
   "outputs": [],
   "source": []
  }
 ],
 "metadata": {
  "kernelspec": {
   "display_name": "Python 3 (ipykernel)",
   "language": "python",
   "name": "python3"
  },
  "language_info": {
   "codemirror_mode": {
    "name": "ipython",
    "version": 3
   },
   "file_extension": ".py",
   "mimetype": "text/x-python",
   "name": "python",
   "nbconvert_exporter": "python",
   "pygments_lexer": "ipython3",
   "version": "3.10.12"
  }
 },
 "nbformat": 4,
 "nbformat_minor": 5
}
