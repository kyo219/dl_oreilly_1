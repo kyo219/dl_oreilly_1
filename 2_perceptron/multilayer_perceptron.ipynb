{
 "cells": [
  {
   "cell_type": "code",
   "execution_count": 1,
   "id": "c0dbe888-5ff7-4691-9778-f0f941c5210e",
   "metadata": {},
   "outputs": [],
   "source": [
    "import numpy as np"
   ]
  },
  {
   "cell_type": "markdown",
   "id": "555d1a3c-51a7-4920-bdc3-dfc5d75f6f02",
   "metadata": {},
   "source": [
    "### 簡易なパーセプトロンの実装(AND, NAND, OR)\n",
    "\n",
    "**構造は同じで、それぞれ重みが変わるだけ.**"
   ]
  },
  {
   "cell_type": "code",
   "execution_count": 61,
   "id": "0d3b2957-049c-4937-bbca-f38b00560755",
   "metadata": {},
   "outputs": [],
   "source": [
    "def AND(x1, x2):\n",
    "    x_vec = np.array([x1, x2])\n",
    "    w_vec = np.array([0.5, 0.5])\n",
    "    bias= -0.7\n",
    "    tmp = np.sum(x_vec * w_vec) + bias\n",
    "    if tmp <= 0:\n",
    "        return 0\n",
    "    else:\n",
    "        return 1\n",
    "\n",
    "def NAND(x1, x2):\n",
    "    x_vec = np.array([x1, x2])\n",
    "    w_vec = np.array([-0.5, -0.5])\n",
    "    bias= 0.7\n",
    "    tmp = np.sum(x_vec * w_vec) + bias\n",
    "    if tmp <= 0:\n",
    "        return 0\n",
    "    else:\n",
    "        return 1\n",
    "\n",
    "def OR(x1, x2):\n",
    "    x_vec = np.array([x1, x2])\n",
    "    w_vec = np.array([0.5, 0.5])\n",
    "    bias= -0.2\n",
    "    tmp = np.sum(x_vec * w_vec) + bias\n",
    "    if tmp <= 0:\n",
    "        return 0\n",
    "    else:\n",
    "        return 1\n"
   ]
  },
  {
   "cell_type": "code",
   "execution_count": 68,
   "id": "82d3d24a-aca7-4836-8e2a-81e4f9b3a920",
   "metadata": {},
   "outputs": [
    {
     "name": "stdout",
     "output_type": "stream",
     "text": [
      " AND1,1: 1  AND0,1: 0\n",
      " NAND1,1: 0  NAND0,1: 1\n",
      " OR1,1: 1  OR0,1: 1\n"
     ]
    }
   ],
   "source": [
    "print(f' AND1,1: {AND(1, 1)}  AND0,1: {AND(0, 1)}')\n",
    "print(f' NAND1,1: {NAND(1, 1)}  NAND0,1: {NAND(0, 1)}')\n",
    "print(f' OR1,1: {OR(1, 1)}  OR0,1: {OR(0, 1)}')"
   ]
  },
  {
   "cell_type": "markdown",
   "id": "7fd9ba3e-30ff-40e6-a848-abe03d6ec418",
   "metadata": {},
   "source": [
    "**XOR(非線形)も、これら３つの組み合わせで表現可能**"
   ]
  },
  {
   "cell_type": "code",
   "execution_count": 69,
   "id": "a2e77a1a-269c-4284-8302-9b1fc48adf1b",
   "metadata": {},
   "outputs": [],
   "source": [
    "def XOR(x1, x2):\n",
    "    s1 = NAND(x1, x2)\n",
    "    s2 = OR(x1, x2)\n",
    "    y = AND(s1, s2)\n",
    "    return y"
   ]
  },
  {
   "cell_type": "code",
   "execution_count": 70,
   "id": "dd9f309b-f507-4196-8995-dcdae5cba6e6",
   "metadata": {},
   "outputs": [
    {
     "name": "stdout",
     "output_type": "stream",
     "text": [
      " XOR1,1: 0  XOR0,1: 1\n"
     ]
    }
   ],
   "source": [
    "print(f' XOR1,1: {XOR(1, 1)}  XOR0,1: {XOR(0, 1)}')"
   ]
  },
  {
   "cell_type": "code",
   "execution_count": null,
   "id": "ecd4c2eb-d84f-4656-be49-25a66fe17a65",
   "metadata": {},
   "outputs": [],
   "source": []
  }
 ],
 "metadata": {
  "kernelspec": {
   "display_name": "Python 3 (ipykernel)",
   "language": "python",
   "name": "python3"
  },
  "language_info": {
   "codemirror_mode": {
    "name": "ipython",
    "version": 3
   },
   "file_extension": ".py",
   "mimetype": "text/x-python",
   "name": "python",
   "nbconvert_exporter": "python",
   "pygments_lexer": "ipython3",
   "version": "3.10.12"
  }
 },
 "nbformat": 4,
 "nbformat_minor": 5
}
