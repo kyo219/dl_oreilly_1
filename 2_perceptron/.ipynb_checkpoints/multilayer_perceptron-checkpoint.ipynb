{
 "cells": [
  {
   "cell_type": "code",
   "execution_count": 1,
   "id": "c0dbe888-5ff7-4691-9778-f0f941c5210e",
   "metadata": {},
   "outputs": [],
   "source": [
    "import numpy as np"
   ]
  },
  {
   "cell_type": "markdown",
   "id": "555d1a3c-51a7-4920-bdc3-dfc5d75f6f02",
   "metadata": {},
   "source": [
    "### 簡易なパーセプトロンの実装"
   ]
  },
  {
   "cell_type": "code",
   "execution_count": 20,
   "id": "0d3b2957-049c-4937-bbca-f38b00560755",
   "metadata": {},
   "outputs": [],
   "source": [
    "def AND(x1, x2, w1, w2, bias, theta):\n",
    "    x_vec = np.array([x1, x2])\n",
    "    w_vec = np.array([w1, w2]),\n",
    "    tmp = np.sum(x_vec * w_vec) +bias\n",
    "    if tmp >= theta:\n",
    "        return 1\n",
    "    else:\n",
    "        return 0"
   ]
  },
  {
   "cell_type": "code",
   "execution_count": 19,
   "id": "82d3d24a-aca7-4836-8e2a-81e4f9b3a920",
   "metadata": {},
   "outputs": [
    {
     "data": {
      "text/plain": [
       "0"
      ]
     },
     "execution_count": 19,
     "metadata": {},
     "output_type": "execute_result"
    }
   ],
   "source": [
    "AND_numpy(1, 0.5, 0.2, 0.5, 0.2, 1)"
   ]
  },
  {
   "cell_type": "markdown",
   "id": "62d400b3-4e5c-45d4-94b0-8062b3fc00f2",
   "metadata": {},
   "source": [
    "**NANDや、ORも、構造は同じで重みを変えるだけでOK**"
   ]
  },
  {
   "cell_type": "code",
   "execution_count": null,
   "id": "a9378417-9f2d-46f7-b2e1-cdf4cb3ad682",
   "metadata": {},
   "outputs": [],
   "source": []
  }
 ],
 "metadata": {
  "kernelspec": {
   "display_name": "Python 3 (ipykernel)",
   "language": "python",
   "name": "python3"
  },
  "language_info": {
   "codemirror_mode": {
    "name": "ipython",
    "version": 3
   },
   "file_extension": ".py",
   "mimetype": "text/x-python",
   "name": "python",
   "nbconvert_exporter": "python",
   "pygments_lexer": "ipython3",
   "version": "3.10.12"
  }
 },
 "nbformat": 4,
 "nbformat_minor": 5
}
